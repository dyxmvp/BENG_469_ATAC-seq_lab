{
 "cells": [
  {
   "cell_type": "code",
   "execution_count": 42,
   "metadata": {},
   "outputs": [],
   "source": [
    "import pysam\n",
    "import collections\n",
    "\n",
    "import matplotlib.pyplot as plt"
   ]
  },
  {
   "cell_type": "code",
   "execution_count": 87,
   "metadata": {},
   "outputs": [],
   "source": [
    "#!rm Cerebellum_62216.bam"
   ]
  },
  {
   "cell_type": "code",
   "execution_count": 88,
   "metadata": {},
   "outputs": [
    {
     "name": "stdout",
     "output_type": "stream",
     "text": [
      "--2021-02-21 16:58:13--  https://docs.google.com/uc?export=download&confirm=FwZj&id=1bubrwts2I_J-woZTVwyzlkIuyMX9_3rL\n",
      "Resolving docs.google.com (docs.google.com)... 142.250.64.110, 2607:f8b0:4006:807::200e\n",
      "Connecting to docs.google.com (docs.google.com)|142.250.64.110|:443... connected.\n",
      "HTTP request sent, awaiting response... 302 Moved Temporarily\n",
      "Location: https://doc-08-20-docs.googleusercontent.com/docs/securesc/8jklbc2rbbe83jqcrl125hdjp77hq6e1/ei9njbeupg6lf4hvop4i5dpjbcpr652u/1613944650000/15445346426572989241/14420805231375242145Z/1bubrwts2I_J-woZTVwyzlkIuyMX9_3rL?e=download [following]\n",
      "--2021-02-21 16:58:13--  https://doc-08-20-docs.googleusercontent.com/docs/securesc/8jklbc2rbbe83jqcrl125hdjp77hq6e1/ei9njbeupg6lf4hvop4i5dpjbcpr652u/1613944650000/15445346426572989241/14420805231375242145Z/1bubrwts2I_J-woZTVwyzlkIuyMX9_3rL?e=download\n",
      "Resolving doc-08-20-docs.googleusercontent.com (doc-08-20-docs.googleusercontent.com)... 172.217.165.129, 2607:f8b0:4006:808::2001\n",
      "Connecting to doc-08-20-docs.googleusercontent.com (doc-08-20-docs.googleusercontent.com)|172.217.165.129|:443... connected.\n",
      "HTTP request sent, awaiting response... 302 Found\n",
      "Location: https://docs.google.com/nonceSigner?nonce=rl1haib02nkau&continue=https://doc-08-20-docs.googleusercontent.com/docs/securesc/8jklbc2rbbe83jqcrl125hdjp77hq6e1/ei9njbeupg6lf4hvop4i5dpjbcpr652u/1613944650000/15445346426572989241/14420805231375242145Z/1bubrwts2I_J-woZTVwyzlkIuyMX9_3rL?e%3Ddownload&hash=mk2f97rkavo8faa92luchho9ftq0e4jk [following]\n",
      "--2021-02-21 16:58:13--  https://docs.google.com/nonceSigner?nonce=rl1haib02nkau&continue=https://doc-08-20-docs.googleusercontent.com/docs/securesc/8jklbc2rbbe83jqcrl125hdjp77hq6e1/ei9njbeupg6lf4hvop4i5dpjbcpr652u/1613944650000/15445346426572989241/14420805231375242145Z/1bubrwts2I_J-woZTVwyzlkIuyMX9_3rL?e%3Ddownload&hash=mk2f97rkavo8faa92luchho9ftq0e4jk\n",
      "Connecting to docs.google.com (docs.google.com)|142.250.64.110|:443... connected.\n",
      "HTTP request sent, awaiting response... 302 Found\n",
      "Location: https://doc-08-20-docs.googleusercontent.com/docs/securesc/8jklbc2rbbe83jqcrl125hdjp77hq6e1/ei9njbeupg6lf4hvop4i5dpjbcpr652u/1613944650000/15445346426572989241/14420805231375242145Z/1bubrwts2I_J-woZTVwyzlkIuyMX9_3rL?e=download&nonce=rl1haib02nkau&user=14420805231375242145Z&hash=m2ufufrah4m7r3e1t3d596bht0i2djkg [following]\n",
      "--2021-02-21 16:58:13--  https://doc-08-20-docs.googleusercontent.com/docs/securesc/8jklbc2rbbe83jqcrl125hdjp77hq6e1/ei9njbeupg6lf4hvop4i5dpjbcpr652u/1613944650000/15445346426572989241/14420805231375242145Z/1bubrwts2I_J-woZTVwyzlkIuyMX9_3rL?e=download&nonce=rl1haib02nkau&user=14420805231375242145Z&hash=m2ufufrah4m7r3e1t3d596bht0i2djkg\n",
      "Connecting to doc-08-20-docs.googleusercontent.com (doc-08-20-docs.googleusercontent.com)|172.217.165.129|:443... connected.\n",
      "HTTP request sent, awaiting response... 200 OK\n",
      "Length: unspecified [application/x-gzip]\n",
      "Saving to: ‘Cerebellum_62216.bam’\n",
      "\n",
      "    [           <=>                         ] 241,662,264 96.2MB/s   in 2.4s   \n",
      "\n",
      "2021-02-21 16:58:16 (96.2 MB/s) - ‘Cerebellum_62216.bam’ saved [241662264]\n",
      "\n"
     ]
    }
   ],
   "source": [
    "#!wget http://krishna.gs.washington.edu/content/members/mouse_ATAC_atlas_website/bams/Cerebellum_62216.bam\n",
    "!wget --load-cookies /tmp/cookies.txt \"https://docs.google.com/uc?export=download&confirm=$(wget --quiet --save-cookies /tmp/cookies.txt --keep-session-cookies --no-check-certificate 'https://docs.google.com/uc?export=download&id=1bubrwts2I_J-woZTVwyzlkIuyMX9_3rL' -O- | sed -rn 's/.*confirm=([0-9A-Za-z_]+).*/\\1\\n/p')&id=1bubrwts2I_J-woZTVwyzlkIuyMX9_3rL\" -O Cerebellum_62216.bam && rm -rf /tmp/cookies.txt"
   ]
  },
  {
   "cell_type": "code",
   "execution_count": 69,
   "metadata": {},
   "outputs": [],
   "source": [
    "bam_file = 'Cerebellum_subsampled.bam' #'Cerebellum_62216.bam'"
   ]
  },
  {
   "cell_type": "code",
   "execution_count": 70,
   "metadata": {},
   "outputs": [],
   "source": [
    "sam_file = pysam.Samfile(bam_file, \"rb\")"
   ]
  },
  {
   "cell_type": "code",
   "execution_count": 71,
   "metadata": {},
   "outputs": [],
   "source": [
    "insert_sizes = {}\n",
    "\n",
    "read_names = set()\n",
    "\n",
    "# Read in the whitelist if provided\n",
    "barcodes = None\n",
    "\n",
    "for alignment in sam_file:\n",
    "    # Don't count R1 and R2 twice\n",
    "    if alignment.query_name in read_names:\n",
    "        continue\n",
    "    else:\n",
    "        read_names.add(alignment.query_name)\n",
    "\n",
    "    # Get the insert size\n",
    "    insert_size = abs(alignment.tlen)\n",
    "\n",
    "    # Discount inferred insert sizes over 1000\n",
    "    if insert_size >= 1000:\n",
    "        continue\n",
    "\n",
    "    # Track stats\n",
    "    cell_name = alignment.query_name.split(':')[0]\n",
    "\n",
    "    if barcodes and cell_name not in barcodes:\n",
    "        continue\n",
    "\n",
    "    cell_insert_size_distribution = insert_sizes.get(cell_name, collections.Counter())\n",
    "\n",
    "    cell_insert_size_distribution[insert_size] += 1\n",
    "    insert_sizes[cell_name] = cell_insert_size_distribution"
   ]
  },
  {
   "cell_type": "code",
   "execution_count": 84,
   "metadata": {},
   "outputs": [],
   "source": [
    "cell = list(insert_sizes.keys())[2]"
   ]
  },
  {
   "cell_type": "code",
   "execution_count": 85,
   "metadata": {},
   "outputs": [],
   "source": [
    "counts = insert_sizes[cell]"
   ]
  },
  {
   "cell_type": "code",
   "execution_count": 89,
   "metadata": {},
   "outputs": [],
   "source": [
    "plt.bar(counts.keys(), counts.values())"
   ]
  },
  {
   "cell_type": "code",
   "execution_count": 68,
   "metadata": {},
   "outputs": [],
   "source": [
    "#!samtools view -bs 42.1 Cerebellum_62216.bam > Cerebellum_subsampled.bam"
   ]
  },
  {
   "cell_type": "code",
   "execution_count": 14,
   "metadata": {},
   "outputs": [
    {
     "name": "stdout",
     "output_type": "stream",
     "text": [
      "The watermark extension is already loaded. To reload it, use:\n",
      "  %reload_ext watermark\n",
      "Python implementation: CPython\n",
      "Python version       : 3.7.3\n",
      "IPython version      : 7.5.0\n",
      "\n",
      "wget       : not installed\n",
      "pysam      : 0.15.2\n",
      "collections: unknown\n",
      "matplotlib : 3.0.3\n",
      "\n",
      "Compiler    : GCC 7.3.0\n",
      "OS          : Linux\n",
      "Release     : 3.10.0-1062.33.1.el7.x86_64\n",
      "Machine     : x86_64\n",
      "Processor   : x86_64\n",
      "CPU cores   : 20\n",
      "Architecture: 64bit\n",
      "\n",
      " \n",
      "Last updated: Sun Feb 21 2021 15:00:32EST\n",
      "\n"
     ]
    }
   ],
   "source": [
    "#%load_ext watermark\n",
    "\n",
    "#%watermark -v -m -p wget,pysam,collections,matplotlib\n",
    "\n",
    "#print (\" \")\n",
    "#%watermark -u -n -t -z"
   ]
  }
 ],
 "metadata": {
  "kernelspec": {
   "display_name": "Python 3",
   "language": "python",
   "name": "python3"
  },
  "language_info": {
   "codemirror_mode": {
    "name": "ipython",
    "version": 3
   },
   "file_extension": ".py",
   "mimetype": "text/x-python",
   "name": "python",
   "nbconvert_exporter": "python",
   "pygments_lexer": "ipython3",
   "version": "3.7.3"
  }
 },
 "nbformat": 4,
 "nbformat_minor": 2
}
