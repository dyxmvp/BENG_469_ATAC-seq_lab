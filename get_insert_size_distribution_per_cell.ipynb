{
 "cells": [
  {
   "cell_type": "markdown",
   "metadata": {},
   "source": [
    "# BENG 469 Lab (scATAC-seq)\n",
    "\n",
    "## This script is for extracting insert-size distributions\n",
    "\n",
    "One of the new quality control steps that used in this manuscript is scoring of individual cells for evidence of a banded insert size distribution that would be indicative of a high-quality ATAC-seq library. We do this by first extracting an insert size distribution for each cell.\n",
    "\n",
    "<img src=\"img/fig1d.PNG\">\n",
    "<img src=\"img/ATAC-seq.png\">"
   ]
  },
  {
   "cell_type": "markdown",
   "metadata": {},
   "source": [
    "### 1. Load packages"
   ]
  },
  {
   "cell_type": "code",
   "execution_count": 1,
   "metadata": {},
   "outputs": [],
   "source": [
    "import pysam\n",
    "import collections\n",
    "import matplotlib.pyplot as plt"
   ]
  },
  {
   "cell_type": "markdown",
   "metadata": {},
   "source": [
    "### 2. Download data\n",
    "\n",
    "- The first step is to extract a histogram of insert sizes across all reads associated with each cell. The input to this script is a BAM file of the aligned reads.\n",
    "\n",
    "- Raw data can be download from https://atlas.gs.washington.edu/mouse-atac/\n",
    "- In this lab, we are using downsampled data"
   ]
  },
  {
   "cell_type": "code",
   "execution_count": 2,
   "metadata": {},
   "outputs": [],
   "source": [
    "# This line is optional\n",
    "#!rm Cerebellum_62216.bam\n",
    "#!wget http://krishna.gs.washington.edu/content/members/mouse_ATAC_atlas_website/bams/Cerebellum_62216.bam"
   ]
  },
  {
   "cell_type": "code",
   "execution_count": 88,
   "metadata": {},
   "outputs": [
    {
     "name": "stdout",
     "output_type": "stream",
     "text": [
      "--2021-02-21 16:58:13--  https://docs.google.com/uc?export=download&confirm=FwZj&id=1bubrwts2I_J-woZTVwyzlkIuyMX9_3rL\n",
      "Resolving docs.google.com (docs.google.com)... 142.250.64.110, 2607:f8b0:4006:807::200e\n",
      "Connecting to docs.google.com (docs.google.com)|142.250.64.110|:443... connected.\n",
      "HTTP request sent, awaiting response... 302 Moved Temporarily\n",
      "Location: https://doc-08-20-docs.googleusercontent.com/docs/securesc/8jklbc2rbbe83jqcrl125hdjp77hq6e1/ei9njbeupg6lf4hvop4i5dpjbcpr652u/1613944650000/15445346426572989241/14420805231375242145Z/1bubrwts2I_J-woZTVwyzlkIuyMX9_3rL?e=download [following]\n",
      "--2021-02-21 16:58:13--  https://doc-08-20-docs.googleusercontent.com/docs/securesc/8jklbc2rbbe83jqcrl125hdjp77hq6e1/ei9njbeupg6lf4hvop4i5dpjbcpr652u/1613944650000/15445346426572989241/14420805231375242145Z/1bubrwts2I_J-woZTVwyzlkIuyMX9_3rL?e=download\n",
      "Resolving doc-08-20-docs.googleusercontent.com (doc-08-20-docs.googleusercontent.com)... 172.217.165.129, 2607:f8b0:4006:808::2001\n",
      "Connecting to doc-08-20-docs.googleusercontent.com (doc-08-20-docs.googleusercontent.com)|172.217.165.129|:443... connected.\n",
      "HTTP request sent, awaiting response... 302 Found\n",
      "Location: https://docs.google.com/nonceSigner?nonce=rl1haib02nkau&continue=https://doc-08-20-docs.googleusercontent.com/docs/securesc/8jklbc2rbbe83jqcrl125hdjp77hq6e1/ei9njbeupg6lf4hvop4i5dpjbcpr652u/1613944650000/15445346426572989241/14420805231375242145Z/1bubrwts2I_J-woZTVwyzlkIuyMX9_3rL?e%3Ddownload&hash=mk2f97rkavo8faa92luchho9ftq0e4jk [following]\n",
      "--2021-02-21 16:58:13--  https://docs.google.com/nonceSigner?nonce=rl1haib02nkau&continue=https://doc-08-20-docs.googleusercontent.com/docs/securesc/8jklbc2rbbe83jqcrl125hdjp77hq6e1/ei9njbeupg6lf4hvop4i5dpjbcpr652u/1613944650000/15445346426572989241/14420805231375242145Z/1bubrwts2I_J-woZTVwyzlkIuyMX9_3rL?e%3Ddownload&hash=mk2f97rkavo8faa92luchho9ftq0e4jk\n",
      "Connecting to docs.google.com (docs.google.com)|142.250.64.110|:443... connected.\n",
      "HTTP request sent, awaiting response... 302 Found\n",
      "Location: https://doc-08-20-docs.googleusercontent.com/docs/securesc/8jklbc2rbbe83jqcrl125hdjp77hq6e1/ei9njbeupg6lf4hvop4i5dpjbcpr652u/1613944650000/15445346426572989241/14420805231375242145Z/1bubrwts2I_J-woZTVwyzlkIuyMX9_3rL?e=download&nonce=rl1haib02nkau&user=14420805231375242145Z&hash=m2ufufrah4m7r3e1t3d596bht0i2djkg [following]\n",
      "--2021-02-21 16:58:13--  https://doc-08-20-docs.googleusercontent.com/docs/securesc/8jklbc2rbbe83jqcrl125hdjp77hq6e1/ei9njbeupg6lf4hvop4i5dpjbcpr652u/1613944650000/15445346426572989241/14420805231375242145Z/1bubrwts2I_J-woZTVwyzlkIuyMX9_3rL?e=download&nonce=rl1haib02nkau&user=14420805231375242145Z&hash=m2ufufrah4m7r3e1t3d596bht0i2djkg\n",
      "Connecting to doc-08-20-docs.googleusercontent.com (doc-08-20-docs.googleusercontent.com)|172.217.165.129|:443... connected.\n",
      "HTTP request sent, awaiting response... 200 OK\n",
      "Length: unspecified [application/x-gzip]\n",
      "Saving to: ‘Cerebellum_62216.bam’\n",
      "\n",
      "    [           <=>                         ] 241,662,264 96.2MB/s   in 2.4s   \n",
      "\n",
      "2021-02-21 16:58:16 (96.2 MB/s) - ‘Cerebellum_62216.bam’ saved [241662264]\n",
      "\n"
     ]
    }
   ],
   "source": [
    "# Download downsampled data\n",
    "!wget --load-cookies /tmp/cookies.txt \"https://docs.google.com/uc?export=download&confirm=$(wget --quiet --save-cookies /tmp/cookies.txt --keep-session-cookies --no-check-certificate 'https://docs.google.com/uc?export=download&id=1bubrwts2I_J-woZTVwyzlkIuyMX9_3rL' -O- | sed -rn 's/.*confirm=([0-9A-Za-z_]+).*/\\1\\n/p')&id=1bubrwts2I_J-woZTVwyzlkIuyMX9_3rL\" -O Cerebellum_62216.bam && rm -rf /tmp/cookies.txt"
   ]
  },
  {
   "cell_type": "markdown",
   "metadata": {},
   "source": [
    "### 3. Load data (BAM file)\n",
    "A BAM file (*.bam) is the compressed binary version of a SAM file that is used to represent aligned sequences. (https://samtools.github.io/hts-specs/SAMv1.pdf)\n",
    "\n",
    "<img src=\"img/BAM file.png\">"
   ]
  },
  {
   "cell_type": "code",
   "execution_count": 3,
   "metadata": {},
   "outputs": [],
   "source": [
    "bam_file = 'Cerebellum_62216.bam'"
   ]
  },
  {
   "cell_type": "markdown",
   "metadata": {},
   "source": [
    "Example bam file output:\n",
    "\n",
    "<img src=\"img/bam_read_n1.png\">"
   ]
  },
  {
   "cell_type": "code",
   "execution_count": 4,
   "metadata": {},
   "outputs": [],
   "source": [
    "sam_file = pysam.Samfile(bam_file, \"rb\")"
   ]
  },
  {
   "cell_type": "code",
   "execution_count": 5,
   "metadata": {},
   "outputs": [
    {
     "name": "stdout",
     "output_type": "stream",
     "text": [
      "QNAME is: TAATGCGCTATTAGACTTTTATGACCAACCTATCCT:623946703#0000\n",
      "\n",
      "The fragment length is:  75\n"
     ]
    }
   ],
   "source": [
    "# Let's check the fragment length of first read in the bam file\n",
    "\n",
    "for alignment in sam_file:\n",
    "    print('QNAME is:', alignment.query_name)\n",
    "    print('\\nThe fragment length is: ', abs(alignment.tlen))\n",
    "    break\n",
    "\n",
    "sam_file.close()"
   ]
  },
  {
   "cell_type": "code",
   "execution_count": 6,
   "metadata": {},
   "outputs": [],
   "source": [
    "sam_file = pysam.Samfile(bam_file, \"rb\")\n",
    "\n",
    "insert_sizes = {}\n",
    "\n",
    "read_names = set()\n",
    "\n",
    "for alignment in sam_file:\n",
    "    # Don't count R1 and R2 twice\n",
    "    if alignment.query_name in read_names:\n",
    "        continue\n",
    "    else:\n",
    "        read_names.add(alignment.query_name)\n",
    "\n",
    "    # Get the insert size\n",
    "    insert_size = abs(alignment.tlen)\n",
    "\n",
    "    # Discount inferred insert sizes over 1000\n",
    "    if insert_size >= 1000:\n",
    "        continue\n",
    "\n",
    "    # Track stats (read names come in the format cellid:other_text)\n",
    "    cell_name = alignment.query_name.split(':')[0]\n",
    "\n",
    "    cell_insert_size_distribution = insert_sizes.get(cell_name, collections.Counter())\n",
    "\n",
    "    cell_insert_size_distribution[insert_size] += 1\n",
    "    insert_sizes[cell_name] = cell_insert_size_distribution"
   ]
  },
  {
   "cell_type": "code",
   "execution_count": 7,
   "metadata": {},
   "outputs": [
    {
     "name": "stdout",
     "output_type": "stream",
     "text": [
      "TAATGCGCTTGGCAAGCCCAATGAGTCCCCTATCCT\n"
     ]
    }
   ],
   "source": [
    "cell = list(insert_sizes.keys())[2]\n",
    "print(cell)"
   ]
  },
  {
   "cell_type": "code",
   "execution_count": 8,
   "metadata": {},
   "outputs": [
    {
     "name": "stdout",
     "output_type": "stream",
     "text": [
      "Counter({177: 55, 176: 50, 187: 44, 152: 44, 167: 44, 175: 42, 151: 42, 172: 42, 169: 42, 173: 41, 186: 39, 178: 39, 168: 38, 171: 36, 179: 36, 166: 35, 149: 34, 181: 34, 160: 33, 185: 33, 150: 31, 165: 30, 174: 30, 180: 30, 183: 30, 194: 30, 189: 30, 170: 29, 182: 28, 197: 28, 139: 27, 138: 27, 188: 27, 153: 27, 202: 26, 201: 26, 161: 26, 190: 25, 162: 25, 207: 25, 200: 24, 205: 23, 159: 23, 51: 23, 54: 23, 217: 22, 164: 22, 198: 22, 63: 21, 163: 21, 184: 21, 196: 21, 137: 21, 203: 21, 214: 21, 148: 20, 58: 20, 221: 20, 195: 20, 62: 20, 140: 20, 72: 20, 192: 19, 199: 19, 49: 19, 158: 19, 206: 19, 208: 18, 218: 18, 61: 18, 157: 18, 209: 18, 46: 18, 64: 17, 55: 17, 57: 17, 222: 17, 67: 17, 191: 17, 70: 17, 56: 17, 216: 17, 213: 17, 44: 17, 212: 17, 78: 17, 210: 16, 193: 16, 75: 16, 74: 16, 211: 15, 225: 15, 219: 15, 50: 15, 66: 15, 68: 15, 321: 15, 85: 15, 155: 14, 227: 14, 204: 14, 215: 14, 92: 14, 60: 14, 83: 14, 45: 13, 237: 13, 84: 13, 226: 13, 314: 13, 224: 13, 65: 13, 154: 13, 47: 13, 69: 13, 327: 13, 52: 13, 223: 13, 156: 13, 230: 13, 235: 12, 127: 12, 232: 12, 77: 12, 43: 12, 238: 12, 332: 12, 53: 12, 326: 12, 87: 12, 81: 11, 80: 11, 240: 11, 234: 11, 59: 11, 76: 11, 82: 11, 41: 11, 220: 10, 342: 10, 336: 10, 374: 10, 379: 10, 339: 10, 367: 10, 347: 10, 341: 10, 368: 10, 228: 9, 144: 9, 231: 9, 236: 9, 370: 9, 89: 9, 104: 9, 302: 9, 385: 9, 354: 9, 146: 9, 324: 9, 375: 9, 251: 9, 79: 9, 96: 9, 323: 9, 141: 9, 142: 9, 39: 9, 331: 9, 105: 9, 384: 9, 40: 9, 382: 9, 378: 9, 334: 9, 252: 9, 388: 8, 229: 8, 344: 8, 260: 8, 390: 8, 124: 8, 243: 8, 93: 8, 48: 8, 115: 8, 73: 8, 325: 8, 330: 8, 329: 8, 358: 8, 361: 8, 328: 8, 371: 8, 283: 8, 319: 8, 363: 8, 376: 8, 95: 8, 357: 8, 38: 8, 350: 8, 355: 8, 242: 7, 133: 7, 250: 7, 125: 7, 90: 7, 372: 7, 118: 7, 135: 7, 438: 7, 239: 7, 307: 7, 343: 7, 407: 7, 364: 7, 312: 7, 106: 7, 274: 7, 308: 7, 244: 7, 472: 7, 114: 7, 100: 7, 123: 7, 233: 7, 337: 7, 383: 7, 256: 7, 377: 7, 255: 7, 362: 6, 86: 6, 71: 6, 249: 6, 42: 6, 292: 6, 297: 6, 246: 6, 266: 6, 147: 6, 410: 6, 310: 6, 414: 6, 36: 6, 136: 6, 348: 6, 143: 6, 351: 6, 318: 6, 315: 6, 111: 6, 265: 6, 369: 6, 309: 6, 108: 6, 245: 6, 131: 6, 264: 6, 101: 6, 145: 6, 365: 6, 294: 6, 403: 6, 320: 6, 109: 6, 248: 6, 400: 5, 102: 5, 397: 5, 317: 5, 392: 5, 296: 5, 91: 5, 338: 5, 98: 5, 427: 5, 282: 5, 279: 5, 285: 5, 353: 5, 276: 5, 424: 5, 258: 5, 527: 5, 380: 5, 322: 5, 433: 5, 107: 5, 300: 5, 373: 5, 130: 5, 269: 5, 128: 5, 112: 5, 406: 5, 542: 5, 335: 5, 311: 5, 359: 5, 391: 5, 97: 5, 628: 5, 35: 5, 110: 5, 126: 5, 366: 5, 360: 5, 333: 5, 270: 5, 511: 5, 413: 5, 120: 5, 287: 4, 290: 4, 295: 4, 569: 4, 103: 4, 340: 4, 345: 4, 277: 4, 303: 4, 666: 4, 494: 4, 568: 4, 349: 4, 665: 4, 316: 4, 401: 4, 381: 4, 479: 4, 117: 4, 435: 4, 261: 4, 132: 4, 37: 4, 517: 4, 298: 4, 352: 4, 291: 4, 536: 4, 119: 4, 399: 4, 88: 4, 524: 4, 766: 4, 425: 4, 304: 4, 281: 4, 478: 4, 346: 4, 356: 4, 453: 4, 299: 4, 555: 4, 463: 4, 543: 4, 441: 4, 546: 4, 99: 4, 289: 4, 94: 4, 313: 4, 254: 4, 443: 3, 551: 3, 605: 3, 490: 3, 419: 3, 301: 3, 121: 3, 613: 3, 509: 3, 553: 3, 411: 3, 487: 3, 519: 3, 702: 3, 488: 3, 562: 3, 247: 3, 404: 3, 474: 3, 634: 3, 762: 3, 501: 3, 515: 3, 129: 3, 34: 3, 306: 3, 278: 3, 617: 3, 595: 3, 679: 3, 116: 3, 426: 3, 505: 3, 571: 3, 257: 3, 728: 3, 455: 3, 402: 3, 32: 3, 284: 3, 280: 3, 122: 3, 492: 3, 508: 3, 512: 3, 654: 3, 386: 3, 535: 3, 506: 3, 537: 3, 33: 3, 305: 3, 262: 3, 268: 3, 440: 3, 532: 3, 286: 3, 288: 3, 394: 3, 273: 3, 624: 3, 523: 3, 271: 3, 752: 3, 387: 3, 389: 3, 396: 3, 580: 3, 484: 3, 398: 3, 500: 3, 755: 2, 787: 2, 528: 2, 493: 2, 670: 2, 473: 2, 558: 2, 451: 2, 522: 2, 30: 2, 529: 2, 987: 2, 614: 2, 510: 2, 564: 2, 561: 2, 415: 2, 418: 2, 513: 2, 841: 2, 545: 2, 552: 2, 446: 2, 431: 2, 754: 2, 647: 2, 578: 2, 134: 2, 621: 2, 408: 2, 874: 2, 548: 2, 622: 2, 293: 2, 421: 2, 503: 2, 820: 2, 741: 2, 600: 2, 544: 2, 504: 2, 640: 2, 593: 2, 514: 2, 420: 2, 417: 2, 241: 2, 499: 2, 736: 2, 497: 2, 454: 2, 661: 2, 471: 2, 877: 2, 570: 2, 678: 2, 272: 2, 780: 2, 611: 2, 491: 2, 947: 2, 538: 2, 592: 2, 447: 2, 437: 2, 731: 2, 701: 2, 697: 2, 530: 2, 565: 2, 633: 2, 457: 2, 594: 2, 810: 2, 113: 2, 659: 2, 541: 2, 458: 2, 844: 2, 691: 2, 556: 2, 619: 2, 598: 2, 275: 2, 429: 2, 563: 2, 813: 2, 476: 2, 627: 2, 567: 2, 650: 2, 788: 2, 482: 2, 944: 2, 521: 2, 436: 2, 566: 2, 480: 2, 525: 2, 485: 2, 646: 2, 253: 2, 734: 2, 954: 1, 602: 1, 703: 1, 475: 1, 717: 1, 870: 1, 965: 1, 442: 1, 890: 1, 693: 1, 615: 1, 629: 1, 968: 1, 550: 1, 549: 1, 430: 1, 864: 1, 539: 1, 683: 1, 719: 1, 577: 1, 649: 1, 607: 1, 779: 1, 764: 1, 596: 1, 738: 1, 464: 1, 489: 1, 777: 1, 677: 1, 682: 1, 973: 1, 940: 1, 423: 1, 885: 1, 498: 1, 759: 1, 925: 1, 873: 1, 689: 1, 705: 1, 830: 1, 868: 1, 625: 1, 637: 1, 685: 1, 739: 1, 645: 1, 785: 1, 470: 1, 992: 1, 588: 1, 772: 1, 726: 1, 28: 1, 584: 1, 591: 1, 753: 1, 712: 1, 792: 1, 897: 1, 922: 1, 518: 1, 957: 1, 730: 1, 861: 1, 422: 1, 903: 1, 651: 1, 756: 1, 833: 1, 994: 1, 582: 1, 926: 1, 983: 1, 774: 1, 713: 1, 744: 1, 963: 1, 818: 1, 459: 1, 450: 1, 996: 1, 516: 1, 758: 1, 918: 1, 434: 1, 790: 1, 867: 1, 681: 1, 793: 1, 656: 1, 603: 1, 572: 1, 583: 1, 763: 1, 807: 1, 808: 1, 718: 1, 449: 1, 791: 1, 845: 1, 749: 1, 919: 1, 984: 1, 939: 1, 652: 1, 884: 1, 796: 1, 610: 1, 891: 1, 460: 1, 795: 1, 732: 1, 585: 1, 409: 1, 760: 1, 448: 1, 444: 1, 576: 1, 751: 1, 604: 1, 507: 1, 842: 1, 416: 1, 393: 1, 725: 1, 851: 1, 921: 1, 829: 1, 948: 1, 579: 1, 687: 1, 456: 1, 993: 1, 599: 1, 893: 1, 786: 1, 554: 1, 722: 1, 469: 1, 698: 1, 981: 1, 865: 1, 676: 1, 711: 1, 496: 1, 901: 1, 632: 1, 540: 1, 267: 1, 432: 1, 729: 1, 405: 1, 259: 1, 468: 1, 581: 1, 31: 1, 694: 1, 814: 1, 263: 1, 708: 1, 721: 1, 735: 1, 574: 1, 648: 1, 557: 1, 534: 1, 898: 1, 962: 1, 863: 1, 597: 1, 971: 1, 675: 1, 832: 1, 931: 1, 587: 1, 481: 1, 945: 1, 669: 1, 816: 1, 601: 1, 846: 1, 680: 1, 937: 1, 612: 1, 668: 1, 445: 1})\n"
     ]
    }
   ],
   "source": [
    "counts = insert_sizes[cell]\n",
    "print(counts)"
   ]
  },
  {
   "cell_type": "code",
   "execution_count": 9,
   "metadata": {},
   "outputs": [
    {
     "data": {
      "text/plain": [
       "<BarContainer object of 728 artists>"
      ]
     },
     "execution_count": 9,
     "metadata": {},
     "output_type": "execute_result"
    },
    {
     "data": {
      "image/png": "[encoded data removed]",
      "text/plain": [
       "<Figure size 432x288 with 1 Axes>"
      ]
     },
     "metadata": {
      "needs_background": "light"
     },
     "output_type": "display_data"
    }
   ],
   "source": [
    "plt.bar(counts.keys(), counts.values())\n",
    "# Let's check another cell, e.g. cell 3"
   ]
  },
  {
   "cell_type": "code",
   "execution_count": 68,
   "metadata": {},
   "outputs": [],
   "source": [
    "#!samtools view -bs 42.1 Cerebellum_62216.bam > Cerebellum_subsampled.bam"
   ]
  },
  {
   "cell_type": "code",
   "execution_count": 14,
   "metadata": {},
   "outputs": [
    {
     "name": "stdout",
     "output_type": "stream",
     "text": [
      "The watermark extension is already loaded. To reload it, use:\n",
      "  %reload_ext watermark\n",
      "Python implementation: CPython\n",
      "Python version       : 3.7.3\n",
      "IPython version      : 7.5.0\n",
      "\n",
      "wget       : not installed\n",
      "pysam      : 0.15.2\n",
      "collections: unknown\n",
      "matplotlib : 3.0.3\n",
      "\n",
      "Compiler    : GCC 7.3.0\n",
      "OS          : Linux\n",
      "Release     : 3.10.0-1062.33.1.el7.x86_64\n",
      "Machine     : x86_64\n",
      "Processor   : x86_64\n",
      "CPU cores   : 20\n",
      "Architecture: 64bit\n",
      "\n",
      " \n",
      "Last updated: Sun Feb 21 2021 15:00:32EST\n",
      "\n"
     ]
    }
   ],
   "source": [
    "#%load_ext watermark\n",
    "\n",
    "#%watermark -v -m -p wget,pysam,collections,matplotlib\n",
    "\n",
    "#print (\" \")\n",
    "#%watermark -u -n -t -z"
   ]
  }
 ],
 "metadata": {
  "kernelspec": {
   "display_name": "Python 3",
   "language": "python",
   "name": "python3"
  },
  "language_info": {
   "codemirror_mode": {
    "name": "ipython",
    "version": 3
   },
   "file_extension": ".py",
   "mimetype": "text/x-python",
   "name": "python",
   "nbconvert_exporter": "python",
   "pygments_lexer": "ipython3",
   "version": "3.7.3"
  }
 },
 "nbformat": 4,
 "nbformat_minor": 2
}
