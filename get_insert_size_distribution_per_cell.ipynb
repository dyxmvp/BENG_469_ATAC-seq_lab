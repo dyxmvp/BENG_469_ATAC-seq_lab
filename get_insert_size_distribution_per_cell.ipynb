{
 "cells": [
  {
   "cell_type": "code",
   "execution_count": 1,
   "metadata": {},
   "outputs": [],
   "source": [
    "import pysam\n",
    "import collections\n",
    "\n",
    "import matplotlib.pyplot as plt"
   ]
  },
  {
   "cell_type": "code",
   "execution_count": 2,
   "metadata": {},
   "outputs": [
    {
     "name": "stdout",
     "output_type": "stream",
     "text": [
      "--2021-02-21 14:50:36--  http://krishna.gs.washington.edu/content/members/mouse_ATAC_atlas_website/bams/Cerebellum_62216.bam\n",
      "Resolving krishna.gs.washington.edu (krishna.gs.washington.edu)... 128.208.8.159\n",
      "Connecting to krishna.gs.washington.edu (krishna.gs.washington.edu)|128.208.8.159|:80... connected.\n",
      "HTTP request sent, awaiting response... 200 OK\n",
      "Length: 2214055229 (2.1G) [application/octet-stream]\n",
      "Saving to: ‘Cerebellum_62216.bam’\n",
      "\n",
      "100%[====================================>] 2,214,055,229 33.8MB/s   in 67s    \n",
      "\n",
      "2021-02-21 14:51:44 (31.7 MB/s) - ‘Cerebellum_62216.bam’ saved [2214055229/2214055229]\n",
      "\n"
     ]
    }
   ],
   "source": [
    "!wget http://krishna.gs.washington.edu/content/members/mouse_ATAC_atlas_website/bams/Cerebellum_62216.bam"
   ]
  },
  {
   "cell_type": "code",
   "execution_count": 3,
   "metadata": {},
   "outputs": [],
   "source": [
    "bam_file = 'Cerebellum_62216.bam'"
   ]
  },
  {
   "cell_type": "code",
   "execution_count": 4,
   "metadata": {},
   "outputs": [],
   "source": [
    "sam_file = pysam.Samfile(bam_file, \"rb\")"
   ]
  },
  {
   "cell_type": "code",
   "execution_count": 6,
   "metadata": {},
   "outputs": [],
   "source": [
    "insert_sizes = {}\n",
    "\n",
    "read_names = set()\n",
    "\n",
    "# Read in the whitelist if provided\n",
    "barcodes = None\n",
    "\n",
    "for alignment in sam_file:\n",
    "    # Don't count R1 and R2 twice\n",
    "    if alignment.query_name in read_names:\n",
    "        continue\n",
    "    else:\n",
    "        read_names.add(alignment.query_name)\n",
    "\n",
    "    # Get the insert size\n",
    "    insert_size = abs(alignment.tlen)\n",
    "\n",
    "    # Discount inferred insert sizes over 1000\n",
    "    if insert_size >= 1000:\n",
    "        continue\n",
    "\n",
    "    # Track stats\n",
    "    cell_name = alignment.query_name.split(':')[0]\n",
    "\n",
    "    if barcodes and cell_name not in barcodes:\n",
    "        continue\n",
    "\n",
    "    cell_insert_size_distribution = insert_sizes.get(cell_name, collections.Counter())\n",
    "\n",
    "    cell_insert_size_distribution[insert_size] += 1\n",
    "    insert_sizes[cell_name] = cell_insert_size_distribution"
   ]
  },
  {
   "cell_type": "code",
   "execution_count": 7,
   "metadata": {},
   "outputs": [],
   "source": [
    "cell = list(insert_sizes.keys())[10]"
   ]
  },
  {
   "cell_type": "code",
   "execution_count": 8,
   "metadata": {},
   "outputs": [],
   "source": [
    "counts = insert_sizes[cell]"
   ]
  },
  {
   "cell_type": "code",
   "execution_count": 9,
   "metadata": {},
   "outputs": [
    {
     "data": {
      "text/plain": [
       "<BarContainer object of 971 artists>"
      ]
     },
     "execution_count": 9,
     "metadata": {},
     "output_type": "execute_result"
    },
    {
     "data": {
      "image/png": "[encoded data removed]",
      "text/plain": [
       "<Figure size 432x288 with 1 Axes>"
      ]
     },
     "metadata": {
      "needs_background": "light"
     },
     "output_type": "display_data"
    }
   ],
   "source": [
    "plt.bar(counts.keys(), counts.values())"
   ]
  },
  {
   "cell_type": "code",
   "execution_count": 14,
   "metadata": {},
   "outputs": [
    {
     "name": "stdout",
     "output_type": "stream",
     "text": [
      "The watermark extension is already loaded. To reload it, use:\n",
      "  %reload_ext watermark\n",
      "Python implementation: CPython\n",
      "Python version       : 3.7.3\n",
      "IPython version      : 7.5.0\n",
      "\n",
      "wget       : not installed\n",
      "pysam      : 0.15.2\n",
      "collections: unknown\n",
      "matplotlib : 3.0.3\n",
      "\n",
      "Compiler    : GCC 7.3.0\n",
      "OS          : Linux\n",
      "Release     : 3.10.0-1062.33.1.el7.x86_64\n",
      "Machine     : x86_64\n",
      "Processor   : x86_64\n",
      "CPU cores   : 20\n",
      "Architecture: 64bit\n",
      "\n",
      " \n",
      "Last updated: Sun Feb 21 2021 15:00:32EST\n",
      "\n"
     ]
    }
   ],
   "source": [
    "#%load_ext watermark\n",
    "\n",
    "#%watermark -v -m -p wget,pysam,collections,matplotlib\n",
    "\n",
    "#print (\" \")\n",
    "#%watermark -u -n -t -z"
   ]
  }
 ],
 "metadata": {
  "kernelspec": {
   "display_name": "Python 3",
   "language": "python",
   "name": "python3"
  },
  "language_info": {
   "codemirror_mode": {
    "name": "ipython",
    "version": 3
   },
   "file_extension": ".py",
   "mimetype": "text/x-python",
   "name": "python",
   "nbconvert_exporter": "python",
   "pygments_lexer": "ipython3",
   "version": "3.7.3"
  }
 },
 "nbformat": 4,
 "nbformat_minor": 2
}
